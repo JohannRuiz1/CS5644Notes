{
 "cells": [
  {
   "cell_type": "markdown",
   "metadata": {},
   "source": [
    "## Strings and Arrays"
   ]
  },
  {
   "cell_type": "markdown",
   "metadata": {},
   "source": [
    "### Two Pointer\n",
    "1) Start one pointer at the first index `0` and the other point at the last index `input.length - 1` \n",
    "2) Use a while loop until the pointers are equal to each other\n",
    "3) At each iteration of the loop, move the pointers towards each other. This means either increment the pointer that started at the first index, decrement the pointer that started at the last index, or both. Decided what to do it solving the problem"
   ]
  },
  {
   "cell_type": "markdown",
   "metadata": {},
   "source": [
    "#### Example 1: Given a string s, return true if it is a palindrome, false otherwise.\n",
    "A string is a palindrome if it reads the same forward as backward. That means, after reversing it, it is still the same string. For example: \"abcdcba\", or \"racecar\"."
   ]
  },
  {
   "cell_type": "code",
   "execution_count": 8,
   "metadata": {},
   "outputs": [
    {
     "name": "stdout",
     "output_type": "stream",
     "text": [
      "True\n",
      "False\n"
     ]
    }
   ],
   "source": [
    "def isPalindrome(input: str) -> bool:\n",
    "    return input == input[::-1]\n",
    "\n",
    "def isPalindromeTwoPtr(input: str) -> bool:\n",
    "    first = 0\n",
    "    last = len(input) - 1\n",
    "    while first != last:\n",
    "        if(input[first] != input[last]):\n",
    "            return False\n",
    "        first+= 1\n",
    "        last-= 1\n",
    "    return True\n",
    "\n",
    "print(isPalindrome(\"racecar\"))\n",
    "print(isPalindromeTwoPtr(\"beracecare\"))"
   ]
  },
  {
   "cell_type": "markdown",
   "metadata": {},
   "source": [
    "#### Example 2: Given a sorted array of unique integers and a target integer, return true if there exists a pair of numbers that sum to target, false otherwise. \n",
    "This problem is similar to Two Sum. (In Two Sum, the input is not sorted). For example, given nums = [1, 2, 4, 6, 8, 9, 14, 15] and target = 13, return true because 4 + 9 = 13."
   ]
  },
  {
   "cell_type": "code",
   "execution_count": 10,
   "metadata": {},
   "outputs": [
    {
     "name": "stdout",
     "output_type": "stream",
     "text": [
      "True\n"
     ]
    }
   ],
   "source": [
    "\n",
    "def sortedTwoSum(input: list[int], target: int) -> bool:\n",
    "    left = 0\n",
    "    right = len(input) - 1\n",
    "    while left < right:\n",
    "        twoSum = input[left] + input[right]\n",
    "        if twoSum == target:\n",
    "            return True\n",
    "        elif twoSum > target:\n",
    "            right-=1\n",
    "        else:\n",
    "            left+=1\n",
    "    return False\n",
    "\n",
    "print(sortedTwoSum([1,2,3], target=3))"
   ]
  },
  {
   "cell_type": "markdown",
   "metadata": {},
   "source": [
    "#### Two Pointer: Two Arrays\n",
    "1) Create two pointers, one for each iterable. Each pointer should start at the first index\n",
    "2) Use a while loop until one of the pointers eaches the end of its iterable\n",
    "3) At each iteration of the loop, move the pointers forward. This means incrementing either one of the pointers or both the pointers. Deciding which pointers to move will depend on the problem we are trying to solve\n",
    "4) Because our while loop will stop when one of the pointers reaches the end, the other pointer will not be at the end of its respective iterable when the loop finishes. Sometimes, we need to create another while loop to go through that array"
   ]
  },
  {
   "cell_type": "markdown",
   "metadata": {},
   "source": [
    "#### Example 3: Given two sorted integer arrays arr1 and arr2, return a new array that combines both of them and is also sorted"
   ]
  },
  {
   "cell_type": "code",
   "execution_count": 13,
   "metadata": {},
   "outputs": [
    {
     "name": "stdout",
     "output_type": "stream",
     "text": [
      "[1, 2, 3, 4, 5, 6]\n"
     ]
    }
   ],
   "source": [
    "def sortTwoArrays(arr1: list[int], arr2: list[int]) -> list[int]:\n",
    "    index1 = 0 \n",
    "    index2 = 0\n",
    "    arr1Len = len(arr1)\n",
    "    arr2Len = len(arr2)\n",
    "    sortedArray = []\n",
    "\n",
    "    # O(n) or O(m)\n",
    "    while index1 < arr1Len and index2 < arr2Len:\n",
    "        if(arr1[index1] < arr2[index2]):\n",
    "            sortedArray.append(arr1[index1])\n",
    "            index1+=1\n",
    "        else:\n",
    "            sortedArray.append(arr2[index2])\n",
    "            index2+=1\n",
    "    \n",
    "    #O(n)\n",
    "    while index1 < arr1Len:\n",
    "        sortedArray.append(arr1[index1])\n",
    "        index1+=1\n",
    "\n",
    "    #O(m)\n",
    "    while index2 < arr2Len:\n",
    "        sortedArray.append(arr2[index2])\n",
    "        index2+=1\n",
    "    \n",
    "    return sortedArray\n",
    "    \n",
    "\n",
    "print(sortTwoArrays([4,5,6], [1,2,3]))\n",
    "        "
   ]
  },
  {
   "cell_type": "markdown",
   "metadata": {},
   "source": [
    "### Example 4: 392. Is Subsequence.\n",
    "Given two strings s and t, return true if s is a subsequence of t, or false otherwise.\n",
    "\n",
    "A subsequence of a string is a sequence of characters that can be obtained by deleting some (or none) of the characters from the original string, while maintaining the relative order of the remaining characters. For example, \"ace\" is a subsequence of \"abcde\" while \"aec\" is not."
   ]
  },
  {
   "cell_type": "code",
   "execution_count": 18,
   "metadata": {},
   "outputs": [
    {
     "name": "stdout",
     "output_type": "stream",
     "text": [
      "True\n"
     ]
    }
   ],
   "source": [
    "def isSubsequence(s: str, t: str) -> bool:\n",
    "    i = j = 0\n",
    "    while(j < len(t)):\n",
    "        if(s[i] == t[j]):\n",
    "            i+=1\n",
    "        j+=1\n",
    "    return i == len(s)\n",
    "\n",
    "print(isSubsequence(\"ace\", \"abcde\"))"
   ]
  },
  {
   "cell_type": "markdown",
   "metadata": {},
   "source": [
    "#### Example 5: Write a function that reverses a string. The input string is given as an array of characters s.\n",
    "\n",
    "You must do this by modifying the input array in-place with O(1) extra memory."
   ]
  },
  {
   "cell_type": "code",
   "execution_count": 2,
   "metadata": {},
   "outputs": [],
   "source": [
    "def reverseString(s: list[str]) -> None:\n",
    "    left = 0\n",
    "    right = len(s) - 1\n",
    "    while(left < right):\n",
    "        temp = s[left]\n",
    "        s[left] = s[right]\n",
    "        s[right] = temp\n",
    "        left += 1\n",
    "        right -= 1\n",
    "    "
   ]
  },
  {
   "cell_type": "markdown",
   "metadata": {},
   "source": [
    "#### Example 6: Given an integer array nums sorted in non-decreasing order, return an array of the squares of each number sorted in non-decreasing order."
   ]
  },
  {
   "cell_type": "code",
   "execution_count": 4,
   "metadata": {},
   "outputs": [
    {
     "name": "stdout",
     "output_type": "stream",
     "text": [
      "[0, 1, 9, 16, 100]\n"
     ]
    }
   ],
   "source": [
    "\n",
    "def squaresSortedArray(s: list[str]) -> list[int]:\n",
    "    left = 0\n",
    "    right = index = len(s) - 1\n",
    "    sqrArra = s[:]\n",
    "    while(left != right):\n",
    "        leftVal = s[left] ** 2\n",
    "        rightVal = s[right] ** 2\n",
    "        if(leftVal > rightVal):\n",
    "            sqrArra[index] = leftVal\n",
    "            left+=1\n",
    "        else:\n",
    "            sqrArra[index] = rightVal\n",
    "            right-=1\n",
    "        index-=1\n",
    "\n",
    "    sqrArra[index] = s[left] ** 2\n",
    "\n",
    "    return sqrArra\n",
    "\n",
    "print(squaresSortedArray([-4, -1, 0, 3, 10]))\n"
   ]
  },
  {
   "cell_type": "markdown",
   "metadata": {},
   "source": [
    "### Sliding Window\n",
    "Uses two pointers. \n",
    "A `subarray` is a contiguous section of the array, can be defined by two indices (start and end). \n",
    "Types of problems\n",
    "1) Either explicitly or implicitly define criteria that make a subarray \"valid\". There are 2 components regarding what makes a subarray valid\n",
    "    1) A constraint metric, some attribute of a subarray, could be the sum, number of unique elements, the frequency of a specific element, or any other attribute\n",
    "    2) A numeric restriction on a constraint metric, this is what the constraint metric should be for a subarray to be considered valid\n",
    "2) Find valid subarrays in some way\n",
    "    1) Find the best valid subarray, might be the `longest` one \n",
    "    2) Findign the nunber of valid subarrays\n",
    "\n",
    "To add elements to our window, increment right. To remove elements, increase the left."
   ]
  }
 ],
 "metadata": {
  "kernelspec": {
   "display_name": "base",
   "language": "python",
   "name": "python3"
  },
  "language_info": {
   "codemirror_mode": {
    "name": "ipython",
    "version": 3
   },
   "file_extension": ".py",
   "mimetype": "text/x-python",
   "name": "python",
   "nbconvert_exporter": "python",
   "pygments_lexer": "ipython3",
   "version": "3.12.4"
  }
 },
 "nbformat": 4,
 "nbformat_minor": 2
}
